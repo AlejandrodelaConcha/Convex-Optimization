{
 "cells": [
  {
   "cell_type": "markdown",
   "metadata": {},
   "source": [
    "<center>\n",
    "    <h1>\n",
    "Lasso\n",
    "    </h1>\n",
    "</center>"
   ]
  },
  {
   "cell_type": "markdown",
   "metadata": {},
   "source": [
    "Given $x_1,...,x_n \\in \\mathbb{R}^d$ data vectors and $y_1,..,yn \\in \\mathbb{R}$ observations, we are searching\n",
    "for regression parameters $w \\in \\mathbb{R}^d$ which fit data inputs to observations $y$ by minimizing their squared difference. In a high dimensional setting (when $n << d$) a $l_1$ norm penalty is often used on the regression coeffcients $w$ in order to enforce sparsity of the solution (so that $w$ will only have a few non-zeros entries). Such penalization has well known statistical properties, and makes the model both more interpretable, and faster at test time.\n",
    "\n",
    "From an optimization point of view we want to solve the following problem called LASSO (which stands for Least Absolute Shrinkage Operator and Selection Operator)"
   ]
  },
  {
   "cell_type": "markdown",
   "metadata": {},
   "source": [
    "$$ minimize \\frac{1}{2} ||Xw-y||_2 ^2 + \\lambda ||w||_1$$"
   ]
  },
  {
   "cell_type": "markdown",
   "metadata": {},
   "source": [
    "in the variable w 2 Rd, where $X = (x^T_1,...,x^T_n)  \\in R^{nxd}$, $y = (y_1,...,y_n) \\in R^n$ and $\\lambda > 0$ is a regularization parameter."
   ]
  },
  {
   "cell_type": "markdown",
   "metadata": {},
   "source": [
    "## Question 1"
   ]
  },
  {
   "cell_type": "markdown",
   "metadata": {},
   "source": [
    "Derive the dual problem of LASSO and format it as a general Quadratic Problem as follows:\n",
    "\\begin{aligned}\n",
    "& minimize \\ \\ \\ v^T Q v + p^T v \\\\\n",
    "& subject \\ \\ \\ to \\ \\ \\ Av \\leq b\n",
    "\\end{aligned}\n",
    "\n",
    "in variable $v \\in R^n$, where $Q \\geq 0$.\n",
    "\n"
   ]
  },
  {
   "cell_type": "markdown",
   "metadata": {},
   "source": [
    "We can write the Lasso problem as:\n",
    "\n",
    "\\begin{aligned}\n",
    "minimize \\ \\ \\ \\frac{1}{2} ||z||_2 ^2 + \\lambda ||w||_1 \\\\\n",
    "subject \\ \\ to z=Xw-y\n",
    "\\end{aligned}\n",
    "\n",
    "The lagrangian of the problem can be seen as: \n",
    "    \n",
    "$$L(v,w,z)= ||z||_2 ^2 + \\lambda ||w||_1 + v^T (Xw-y-z)$$\n",
    "\n",
    "The gradient respecto to $z$ is :\n",
    "\\begin{aligned}\n",
    "\\Delta_z= 2z - v \\\\\n",
    "z=\\frac{v}{2}\n",
    "\\end{aligned}\n",
    "\n",
    "The dual can be written as \n",
    "\\begin{aligned}\n",
    "L_1(v)&=max_v -\\frac{||v||_2 ^2}{4} - v^T y - Sup_w -\\lambda ||w||_1 - v^T(Xw) \\\\\n",
    "&=max_v -\\frac{||v||_2 ^2}{4} - v^T y  - \\lambda conjugate_{||||_1} \\frac{-Xw}{\\lambda} \\\\\n",
    "&=max_v -\\frac{||v||_2 ^2}{4} - v^T y \\ \\ \\ subject \\ \\ to  \\ \\ Xw \\leq \\lambda \\ \\ \\ -Xw \\leq \\lambda \n",
    "\\end{aligned}\n",
    "\n",
    "Then the dual is:\n",
    "\n",
    "\\begin{aligned}\n",
    "max_v \\frac{||v||_2^2}{2}+v^T y \\\\ \n",
    "subject \\ \\ to \\ \\ \n",
    "\\begin{pmatrix}\n",
    "X^T & 0 \\\\\n",
    "0 & -X^T\n",
    "\\end{pmatrix} v \\leq \\lambda\n",
    "\\end{aligned}\n",
    "\n"
   ]
  },
  {
   "cell_type": "markdown",
   "metadata": {},
   "source": [
    "## Question 2"
   ]
  },
  {
   "cell_type": "markdown",
   "metadata": {},
   "source": [
    "Implement the barrier method to solve QP."
   ]
  },
  {
   "cell_type": "markdown",
   "metadata": {},
   "source": [
    "Write a function v seq = centering step(Q,p,A,b,t,v0,eps) which implements the Newton method to solve the centering step given the inputs $(Q, p, A, b)$, the barrier method parameter t (see lectures), initial variable $v_0$ an a target precision $\\epsilon$. The function outputs the sequence of variables iterates $(vi)_i=1,...,n_{\\epsilon}$ , where $n_{\\epsilon}$ is the number of iterations to obtain the $\\epsilon$ precision. Use a backtracking line search with appropriate parameters.    "
   ]
  },
  {
   "cell_type": "code",
   "execution_count": 7,
   "metadata": {},
   "outputs": [],
   "source": [
    "import numpy as np\n",
    "import matplotlib.pyplot as plt"
   ]
  },
  {
   "cell_type": "code",
   "execution_count": 8,
   "metadata": {},
   "outputs": [],
   "source": [
    "def f0(Q,p,v):\n",
    "    ### Function to valuate the objective function of a QP\n",
    "    \n",
    "    ## Input\n",
    "    # Q: a n × n-dimensional real symmetric matrix \n",
    "    # p: a real-valued, n-dimensional vector.\n",
    "    # v: the point to evaluate, a n-dimensional real vector.\n",
    "    \n",
    "    ## Output\n",
    "    # f0=the value of the objective function.\n",
    "    \n",
    "    f0=v.dot(Q).dot(v)+np.transpose(p).dot(v)\n",
    "    return(f0)\n",
    "\n",
    "def phi(A,b,v):\n",
    "    ### Funtion to valuate the auxiliar function in the barrier method.\n",
    "    \n",
    "    # Input\n",
    "    # A: a m × n-dimensional real matrix.\n",
    "    # b: a m-dimensional real vector.\n",
    "    # v: the point to evaluate, a n-dimensional real vector.\n",
    "    \n",
    "    # Output\n",
    "    # phi= the value of the auxiliar function.\n",
    "    phi=0.\n",
    "    for i in range(0,A.shape[0]):\n",
    "        phi-=np.log(-1.*(A[i,].dot(v)-b[i]))\n",
    "    return(phi)\n",
    "\n",
    "def centering_step(Q,p,A,b,t,v0,eps):\n",
    "    ### Funtion to perform the centering step in the barrier method\n",
    "     ## Input\n",
    "    # Q: a n × n-dimensional real symmetric matrix \n",
    "    # p: a real-valued, n-dimensional vector.\n",
    "    # A: a m × n-dimensional real matrix.\n",
    "    # b: a m-dimensional real vector.\n",
    "    # t: parameter of the penalization term in the barrier method. \n",
    "    # v0: initial feasible point, a n-dimensional real vector.\n",
    "    # eps: desired precision. \n",
    "    \n",
    "    ## Output \n",
    "    # v_seq: sequence of approximation points.\n",
    "    \n",
    "    ## Fixed values of alpha and beta for the backtracking algorithm\n",
    "    alpha=0.01\n",
    "    beta=0.5\n",
    "    \n",
    "    v_seq=[]\n",
    "    v_old=v0\n",
    "    v_seq.append(v0)\n",
    "    ######### First Step #######\n",
    "    ## Computation of gradient and hessian\n",
    "    gradient_f0=(Q+np.transpose(Q)).dot(v_old)+p\n",
    "    hessian_f0=Q+np.transpose(Q)\n",
    "    gradient_phi=np.zeros(gradient_f0.size)\n",
    "    hessian_phi=np.zeros(hessian_f0.shape)\n",
    "    for i in np.arange(0,A.shape[0]):\n",
    "        aux=np.array(A[i,])[np.newaxis]\n",
    "        hessian_phi=(np.transpose(aux).dot(aux)/((A[i,].dot(v_old)-b[i])**2))+hessian_phi\n",
    "        gradient_phi-=-(A[i,]/(A[i,].dot(v_old)-b[i]))\n",
    "    gradient=t*gradient_f0+gradient_phi\n",
    "    hessian=t*hessian_f0+hessian_phi\n",
    "    \n",
    "    ## newton step and decretment\n",
    "    newton_step=-np.linalg.inv(hessian).dot(gradient)\n",
    "    decretment=-gradient.dot(newton_step)\n",
    "    \n",
    "    ## Stop criteria \n",
    "    if((decretment/2.)>eps):\n",
    "        s=1\n",
    "        while(np.sum(A.dot(v_old+s*newton_step)>b)>0):  \n",
    "            s=beta*s\n",
    "        ## Backtracking\n",
    "        while((t*f0(Q,p,v_old+s*newton_step)+phi(A,b,v_old+s*newton_step))>=\n",
    "              (t*f0(Q,p,v_old)+phi(A,b,v_old)+alpha*s*gradient.dot(newton_step))):\n",
    "            s=beta*s\n",
    "        v_new=v_old+s*newton_step\n",
    "    else: \n",
    "        return(v_seq)\n",
    "    ######## Next steps ########\n",
    "    ## Stop criteria \n",
    "    while((decretment/2.)>eps):\n",
    "        v_old=v_new\n",
    "        v_seq.append(v_old)\n",
    "        \n",
    "        ## Computation of gradient and hessian\n",
    "        gradient_f0=(Q+np.transpose(Q)).dot(v_old)+p\n",
    "        hessian_f0=Q+np.transpose(Q)\n",
    "        gradient_phi=np.zeros(gradient_f0.size)\n",
    "        hessian_phi=np.zeros(hessian_f0.shape)\n",
    "        for i in np.arange(0,A.shape[0]):\n",
    "            aux=np.array(A[i,])[np.newaxis]\n",
    "            hessian_phi=(np.transpose(aux).dot(aux)/((A[i,].dot(v_old)-b[i])**2))+hessian_phi\n",
    "            gradient_phi=-(A[i,]/(A[i,].dot(v_old)-b[i]))+gradient_phi\n",
    "        gradient=t*gradient_f0+gradient_phi\n",
    "        hessian=t*hessian_f0+hessian_phi\n",
    "        \n",
    "        ## Newton Step and decretment\n",
    "        newton_step=-np.linalg.inv(hessian).dot(gradient)\n",
    "        decretment=-gradient.dot(newton_step)\n",
    "        s=1\n",
    "        while(np.sum(A.dot(v_old+s*newton_step)>b)>0):  \n",
    "            s=beta*s\n",
    "        ##### Backtracking\n",
    "        while(t*f0(Q,p,v_old+s*newton_step)+phi(A,b,v_old+s*newton_step)>=\n",
    "              t*f0(Q,p,v_old)+phi(A,b,v_old)+alpha*s*gradient.dot(newton_step)):\n",
    "                s=beta*s\n",
    "        v_new=v_old+s*newton_step\n",
    "    return(v_seq)   \n",
    "   "
   ]
  },
  {
   "cell_type": "markdown",
   "metadata": {},
   "source": [
    "Write a function v seq = barr method(Q,p,A,b,v0,eps) which implements the barrier method to solve QP using precedent function given the data inputs $(Q,p,A,b)$ a feasible point $v_0$ a precision criterion $\\epsilon$. The function outputs the sequence of\n",
    "variables iterates $(vi)i=1,...,n_{\\epsilon}$ , where $n_{\\epsilon}$ is the number of iterations to obtain the $\\epsilon$ precision."
   ]
  },
  {
   "cell_type": "code",
   "execution_count": 16,
   "metadata": {},
   "outputs": [],
   "source": [
    "def barr_method(Q,p,A,b,v0,eps,mu):\n",
    "    ### Funtion to perform the barrier method.\n",
    "     ## Input\n",
    "    # Q: a n × n-dimensional real symmetric matrix \n",
    "    # p: a real-valued, n-dimensional vector.\n",
    "    # A: a m × n-dimensional real matrix.\n",
    "    # b: a m-dimensional real vector. \n",
    "    # v0: initial feasible point, a n-dimensional real vector.\n",
    "    # eps: desired precision. \n",
    "    # mu: value that controls the size of the jumps between interactions, real number>1\n",
    "    \n",
    "    ## Output \n",
    "    # v_seq: sequence of approximation points.\n",
    "    v_seq=[]\n",
    "    v_old=v0\n",
    "    v_seq.append(v_old)\n",
    "    ### Centering step\n",
    "    m=A.shape[0]\n",
    "    t=1\n",
    "    v_aux=centering_step(Q,p,A,b,t,v_old,eps=1e-2)\n",
    "    v_new=v_aux[-1]\n",
    "    while(m/t>eps):\n",
    "        v_old=v_new\n",
    "        v_seq=v_seq+v_aux\n",
    "        ### Centering step\n",
    "        t=mu*t\n",
    "        v_aux=centering_step(Q,p,A,b,t,v_old,eps=1e-2)\n",
    "        v_new=v_aux[-1]\n",
    "    return(v_seq)\n",
    "def dual_to_original_problem(X,Y,v):\n",
    "    ### Function to return the weights of the lasso problem from the dual's solution.\n",
    "    ## Input\n",
    "    ## X: dataset, a n × m-dimensional real matrix \n",
    "    ## Y: target values,a real-valued, a n-dimensional vector.\n",
    "    ## v: the dual's solution , a n-dimensional real vector\n",
    "    \n",
    "    ## Output\n",
    "    ## w: the weights of the lasso problem, a m-dimensional vector\n",
    "    \n",
    "    \n",
    "    w=(np.linalg.pinv(np.transpose(X).dot(X)).dot(np.transpose(X))).dot(Y+v)\n",
    "    return(w)"
   ]
  },
  {
   "cell_type": "markdown",
   "metadata": {},
   "source": [
    "## Question 3"
   ]
  },
  {
   "cell_type": "markdown",
   "metadata": {},
   "source": [
    "Test your function on randomly generated matrices $X$ and observations $y$ with $\\lambda = 10$.\n",
    "Plot precision criterion and gap $f(v_t)-f^*$ in semilog scale (using the best value found for f as a surrogate for $f^*$). Repeat for different values of the barrier method parameter $\\mu = 2, 15, 50, 100,...$ and check the impact on $w$. What would be an appropriate choice for $\\mu$ ?"
   ]
  },
  {
   "cell_type": "markdown",
   "metadata": {},
   "source": [
    "Initialization of X and Y"
   ]
  },
  {
   "cell_type": "code",
   "execution_count": 10,
   "metadata": {},
   "outputs": [],
   "source": [
    "m=20\n",
    "n=500\n",
    "lamb=10\n",
    "X=np.random.normal(size=m*n)\n",
    "X.shape=(n,m)\n",
    "Y=np.random.normal(size=n)"
   ]
  },
  {
   "cell_type": "markdown",
   "metadata": {},
   "source": [
    "I deduce the parameters of the dual problem from the values given. "
   ]
  },
  {
   "cell_type": "code",
   "execution_count": 11,
   "metadata": {},
   "outputs": [],
   "source": [
    "Q=np.identity(X.shape[0])*(1/2)\n",
    "p=Y\n",
    "A=np.transpose(X)\n",
    "A=np.concatenate([A,-A])\n",
    "b=np.repeat(lamb,A.shape[0])"
   ]
  },
  {
   "cell_type": "markdown",
   "metadata": {},
   "source": [
    "As $\\lambda >0$ , I can fix the initial strict feasible value as 0."
   ]
  },
  {
   "cell_type": "code",
   "execution_count": 12,
   "metadata": {},
   "outputs": [],
   "source": [
    "v0=np.zeros(A.shape[1])"
   ]
  },
  {
   "cell_type": "markdown",
   "metadata": {},
   "source": [
    "I performed the barrier method for diferent values of $\\mu$ and with $\\alpha=0.1$ and $\\beta=0.5$ for the backtracking line search. I fixed the precision of the centering step at $10^{-2}$. "
   ]
  },
  {
   "cell_type": "code",
   "execution_count": 13,
   "metadata": {},
   "outputs": [],
   "source": [
    "mu=[2,15,50,100,200]\n",
    "v=[barr_method(Q,p,A,b,v0,eps=1e-6,mu=i) for i in mu]"
   ]
  },
  {
   "cell_type": "markdown",
   "metadata": {},
   "source": [
    "We can see how in all cases we have linear convergence. \n",
    "The number of iteraction needed to converge increases as $\\mu$ decreases. This parameter has also an impact in the number of inter and outer interactions. The number of interactions of the centering step (inter interaction) increases as $\\mu$ is larger,while the number of outer interaction reduces. "
   ]
  },
  {
   "cell_type": "code",
   "execution_count": 14,
   "metadata": {},
   "outputs": [
    {
     "data": {
      "image/png": "[encoded data removed]",
      "text/plain": [
       "<Figure size 1440x720 with 1 Axes>"
      ]
     },
     "metadata": {
      "needs_background": "light"
     },
     "output_type": "display_data"
    }
   ],
   "source": [
    "y=[]\n",
    "for i in np.arange(0,len(mu)):\n",
    "    y.append([f0(Q,p,j)-f0(Q,p,v[i][-1]) for j in v[i]])\n",
    "\n",
    "plt.figure(figsize=(20,10))\n",
    "for i in np.arange(0,len(mu)):\n",
    "    plt.semilogy(np.arange(len(v[i])),y[i]) \n",
    "plt.legend(['mu = 2', 'mu = 15', 'mu = 50', 'mu = 100','mu=200'], loc='upper right')\n",
    "plt.xlabel(\"Iteractions\")\n",
    "plt.ylabel(\"f_t-f_opt\")\n",
    "plt.show()"
   ]
  },
  {
   "cell_type": "markdown",
   "metadata": {},
   "source": [
    "The number of iteractions affect the precision of the values of $w$. As I simulated Y idenpendently from X, I expect w to be close to 0. The results don't change too much with the different values of mu in this case. But in general, there will exist differences. And bigger values of $\\mu$     could lead to poor results."
   ]
  },
  {
   "cell_type": "code",
   "execution_count": 17,
   "metadata": {},
   "outputs": [
    {
     "name": "stdout",
     "output_type": "stream",
     "text": [
      "[[ 2.52495433e-02 -9.98802649e-03 -2.94057667e-03 -2.51237703e-02\n",
      "  -5.15542064e-03 -6.81911373e-09 -1.44746907e-08 -1.37289785e-08\n",
      "  -9.29260785e-02 -7.05022126e-10  2.07799518e-08 -8.74259023e-10\n",
      "  -2.31057311e-03  4.58623135e-09 -2.39696116e-02  2.94129016e-02\n",
      "  -2.30021792e-02 -7.62232962e-02 -2.12836736e-02  9.98979544e-08]\n",
      " [ 2.52495533e-02 -9.98805340e-03 -2.94062328e-03 -2.51237708e-02\n",
      "  -5.15542358e-03 -2.00876828e-08 -4.26390590e-08 -4.04424215e-08\n",
      "  -9.29260907e-02 -2.07685739e-09  6.12121785e-08 -2.57538392e-09\n",
      "  -2.31061931e-03  1.35100697e-08 -2.39696257e-02  2.94129095e-02\n",
      "  -2.30021809e-02 -7.62233012e-02 -2.12836891e-02  2.94180471e-07]\n",
      " [ 2.52495656e-02 -9.98808685e-03 -2.94067941e-03 -2.51237713e-02\n",
      "  -5.15542758e-03 -3.66097557e-08 -7.77087938e-08 -7.37055901e-08\n",
      "  -9.29261060e-02 -3.78508942e-09  1.11556301e-07 -4.69363079e-09\n",
      "  -2.31067499e-03  2.46220517e-08 -2.39696431e-02  2.94129194e-02\n",
      "  -2.30021830e-02 -7.62233073e-02 -2.12837083e-02  5.35921114e-07]\n",
      " [ 2.52497115e-02 -9.98847527e-03 -2.94143015e-03 -2.51237798e-02\n",
      "  -5.15546606e-03 -2.28807926e-07 -4.85614457e-07 -4.60607594e-07\n",
      "  -9.29262764e-02 -2.36580595e-08  6.97018311e-07 -2.93346833e-08\n",
      "  -2.31134812e-03  1.53884326e-07 -2.39698484e-02  2.94130342e-02\n",
      "  -2.30022078e-02 -7.62233750e-02 -2.12839328e-02  3.33349030e-06]\n",
      " [ 2.52495596e-02 -9.98806913e-03 -2.94066002e-03 -2.51237714e-02\n",
      "  -5.15541988e-03 -2.86013913e-08 -6.07103325e-08 -5.75827551e-08\n",
      "  -9.29260980e-02 -2.95709571e-09  8.71544759e-08 -3.66690127e-09\n",
      "  -2.31064742e-03  1.92359985e-08 -2.39696349e-02  2.94129146e-02\n",
      "  -2.30021819e-02 -7.62233040e-02 -2.12836980e-02  4.18773198e-07]]\n"
     ]
    }
   ],
   "source": [
    "### Each array in the list shows the optimal value w found by each mu \n",
    "W=[dual_to_original_problem(X,Y,i[-1]) for i in v]\n",
    "print(np.array(W))"
   ]
  },
  {
   "cell_type": "code",
   "execution_count": 18,
   "metadata": {},
   "outputs": [
    {
     "data": {
      "text/plain": [
       "[0.3375858130989542,\n",
       " 0.33758631744230555,\n",
       " 0.3375869414473393,\n",
       " 0.3375942978759671,\n",
       " 0.33758663768103175]"
      ]
     },
     "execution_count": 18,
     "metadata": {},
     "output_type": "execute_result"
    }
   ],
   "source": [
    "[np.sum(np.abs(i)) for i in W]"
   ]
  },
  {
   "cell_type": "markdown",
   "metadata": {},
   "source": [
    "As we see before, given the properties of this problem, we expect that the duality gap is 0. In order to validate the solution obtained , I compared the duality gap for the different values of $\\mu$. We can see that all of them give satisfying results. In this case, I would choose $\\mu=100$ as it leads to the minimum number of interactions before convergence. In the general case, $\\mu$ beetwen 15 and 20 is chosen."
   ]
  },
  {
   "cell_type": "code",
   "execution_count": 19,
   "metadata": {},
   "outputs": [
    {
     "data": {
      "text/plain": [
       "array([240.48417319, 240.4841686 , 240.48416292, 240.48409581,\n",
       "       240.48416568])"
      ]
     },
     "execution_count": 19,
     "metadata": {},
     "output_type": "execute_result"
    }
   ],
   "source": [
    "f_primal=np.array([0.5*np.sum((X.dot(w)-Y)**2)+lamb*np.max(np.abs(w)) for w in W])\n",
    "f_primal"
   ]
  },
  {
   "cell_type": "code",
   "execution_count": 20,
   "metadata": {},
   "outputs": [
    {
     "data": {
      "text/plain": [
       "array([242.93077002, 242.93076933, 242.93076848, 242.93075839,\n",
       "       242.93076891])"
      ]
     },
     "execution_count": 20,
     "metadata": {},
     "output_type": "execute_result"
    }
   ],
   "source": [
    "f_dual=np.array([-1*f0(Q,p,i[len(i)-1]) for i in v])\n",
    "f_dual"
   ]
  },
  {
   "cell_type": "code",
   "execution_count": 21,
   "metadata": {},
   "outputs": [
    {
     "data": {
      "text/plain": [
       "array([2.44659682, 2.44660072, 2.44660555, 2.44666258, 2.44660323])"
      ]
     },
     "execution_count": 21,
     "metadata": {},
     "output_type": "execute_result"
    }
   ],
   "source": [
    "duality_gap=np.abs(f_primal-f_dual)\n",
    "duality_gap"
   ]
  }
 ],
 "metadata": {
  "kernelspec": {
   "display_name": "Python 3",
   "language": "python",
   "name": "python3"
  },
  "language_info": {
   "codemirror_mode": {
    "name": "ipython",
    "version": 3
   },
   "file_extension": ".py",
   "mimetype": "text/x-python",
   "name": "python",
   "nbconvert_exporter": "python",
   "pygments_lexer": "ipython3",
   "version": "3.7.3"
  }
 },
 "nbformat": 4,
 "nbformat_minor": 2
}
